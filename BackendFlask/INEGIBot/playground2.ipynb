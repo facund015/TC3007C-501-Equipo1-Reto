{
 "cells": [
  {
   "cell_type": "code",
   "execution_count": 69,
   "metadata": {},
   "outputs": [
    {
     "data": {
      "text/html": [
       "<div>\n",
       "<style scoped>\n",
       "    .dataframe tbody tr th:only-of-type {\n",
       "        vertical-align: middle;\n",
       "    }\n",
       "\n",
       "    .dataframe tbody tr th {\n",
       "        vertical-align: top;\n",
       "    }\n",
       "\n",
       "    .dataframe thead th {\n",
       "        text-align: right;\n",
       "    }\n",
       "</style>\n",
       "<table border=\"1\" class=\"dataframe\">\n",
       "  <thead>\n",
       "    <tr style=\"text-align: right;\">\n",
       "      <th></th>\n",
       "      <th>CVEGEO</th>\n",
       "      <th>NOM_ENT</th>\n",
       "      <th>NOMGEO</th>\n",
       "      <th>NOMGEO2</th>\n",
       "      <th>NOM_ENT2</th>\n",
       "    </tr>\n",
       "  </thead>\n",
       "  <tbody>\n",
       "    <tr>\n",
       "      <th>0</th>\n",
       "      <td>12003</td>\n",
       "      <td>Guerrero</td>\n",
       "      <td>Ajuchitlán del Progreso</td>\n",
       "      <td>ajuchitlan del progreso</td>\n",
       "      <td>guerrero</td>\n",
       "    </tr>\n",
       "    <tr>\n",
       "      <th>1</th>\n",
       "      <td>13041</td>\n",
       "      <td>Hidalgo</td>\n",
       "      <td>Mixquiahuala de Juárez</td>\n",
       "      <td>mixquiahuala de juarez</td>\n",
       "      <td>hidalgo</td>\n",
       "    </tr>\n",
       "    <tr>\n",
       "      <th>2</th>\n",
       "      <td>12067</td>\n",
       "      <td>Guerrero</td>\n",
       "      <td>Tlapehuala</td>\n",
       "      <td>tlapehuala</td>\n",
       "      <td>guerrero</td>\n",
       "    </tr>\n",
       "    <tr>\n",
       "      <th>3</th>\n",
       "      <td>13025</td>\n",
       "      <td>Hidalgo</td>\n",
       "      <td>Huautla</td>\n",
       "      <td>huautla</td>\n",
       "      <td>hidalgo</td>\n",
       "    </tr>\n",
       "    <tr>\n",
       "      <th>4</th>\n",
       "      <td>13027</td>\n",
       "      <td>Hidalgo</td>\n",
       "      <td>Huehuetla</td>\n",
       "      <td>huehuetla</td>\n",
       "      <td>hidalgo</td>\n",
       "    </tr>\n",
       "    <tr>\n",
       "      <th>...</th>\n",
       "      <td>...</td>\n",
       "      <td>...</td>\n",
       "      <td>...</td>\n",
       "      <td>...</td>\n",
       "      <td>...</td>\n",
       "    </tr>\n",
       "    <tr>\n",
       "      <th>2464</th>\n",
       "      <td>20429</td>\n",
       "      <td>Oaxaca</td>\n",
       "      <td>Santa María Sola</td>\n",
       "      <td>santa maria sola</td>\n",
       "      <td>oaxaca</td>\n",
       "    </tr>\n",
       "    <tr>\n",
       "      <th>2465</th>\n",
       "      <td>20511</td>\n",
       "      <td>Oaxaca</td>\n",
       "      <td>Santo Domingo Nuxaá</td>\n",
       "      <td>santo domingo nuxaa</td>\n",
       "      <td>oaxaca</td>\n",
       "    </tr>\n",
       "    <tr>\n",
       "      <th>2466</th>\n",
       "      <td>20227</td>\n",
       "      <td>Oaxaca</td>\n",
       "      <td>San Lorenzo Cacaotepec</td>\n",
       "      <td>san lorenzo cacaotepec</td>\n",
       "      <td>oaxaca</td>\n",
       "    </tr>\n",
       "    <tr>\n",
       "      <th>2467</th>\n",
       "      <td>20329</td>\n",
       "      <td>Oaxaca</td>\n",
       "      <td>San Pedro Teozacoalco</td>\n",
       "      <td>san pedro teozacoalco</td>\n",
       "      <td>oaxaca</td>\n",
       "    </tr>\n",
       "    <tr>\n",
       "      <th>2468</th>\n",
       "      <td>20393</td>\n",
       "      <td>Oaxaca</td>\n",
       "      <td>Santa Lucía Ocotlán</td>\n",
       "      <td>santa lucia ocotlan</td>\n",
       "      <td>oaxaca</td>\n",
       "    </tr>\n",
       "  </tbody>\n",
       "</table>\n",
       "<p>2469 rows × 5 columns</p>\n",
       "</div>"
      ],
      "text/plain": [
       "      CVEGEO   NOM_ENT                   NOMGEO                  NOMGEO2  \\\n",
       "0      12003  Guerrero  Ajuchitlán del Progreso  ajuchitlan del progreso   \n",
       "1      13041   Hidalgo   Mixquiahuala de Juárez   mixquiahuala de juarez   \n",
       "2      12067  Guerrero               Tlapehuala               tlapehuala   \n",
       "3      13025   Hidalgo                  Huautla                  huautla   \n",
       "4      13027   Hidalgo                Huehuetla                huehuetla   \n",
       "...      ...       ...                      ...                      ...   \n",
       "2464   20429    Oaxaca         Santa María Sola         santa maria sola   \n",
       "2465   20511    Oaxaca      Santo Domingo Nuxaá      santo domingo nuxaa   \n",
       "2466   20227    Oaxaca   San Lorenzo Cacaotepec   san lorenzo cacaotepec   \n",
       "2467   20329    Oaxaca    San Pedro Teozacoalco    san pedro teozacoalco   \n",
       "2468   20393    Oaxaca      Santa Lucía Ocotlán      santa lucia ocotlan   \n",
       "\n",
       "      NOM_ENT2  \n",
       "0     guerrero  \n",
       "1      hidalgo  \n",
       "2     guerrero  \n",
       "3      hidalgo  \n",
       "4      hidalgo  \n",
       "...        ...  \n",
       "2464    oaxaca  \n",
       "2465    oaxaca  \n",
       "2466    oaxaca  \n",
       "2467    oaxaca  \n",
       "2468    oaxaca  \n",
       "\n",
       "[2469 rows x 5 columns]"
      ]
     },
     "execution_count": 69,
     "metadata": {},
     "output_type": "execute_result"
    }
   ],
   "source": [
    "import pandas as pd\n",
    "import numpy as np\n",
    "import unicodedata\n",
    "df_mun = pd.read_csv('input/df_diccionario_mun.csv')\n",
    "#df_mun = df_mun.zfill(2)\n",
    "#df_mun['CVEGEO'] = df_mun['CVEGEO'].astype(str).zfill(5)\n",
    "df_mun"
   ]
  },
  {
   "cell_type": "code",
   "execution_count": 75,
   "metadata": {},
   "outputs": [
    {
     "name": "stdout",
     "output_type": "stream",
     "text": [
      "compostela nayarit\n"
     ]
    }
   ],
   "source": [
    "x = 'Compostela'\n",
    "x = x.replace(\"%20\", \" \" )\n",
    "x = (unicodedata.normalize('NFKD', x).encode('ASCII', 'ignore').strip().lower().decode('UTF-8'))\n",
    "y = 'Nayarit'\n",
    "y = y.replace(\"%20\", \" \" )\n",
    "y = (unicodedata.normalize('NFKD', y).encode('ASCII', 'ignore').strip().lower().decode('UTF-8'))\n",
    "print(x, y)"
   ]
  },
  {
   "cell_type": "code",
   "execution_count": 11,
   "metadata": {},
   "outputs": [
    {
     "data": {
      "text/plain": [
       "611      3009\n",
       "1354    32024\n",
       "Name: CVEGEO, dtype: int64"
      ]
     },
     "execution_count": 11,
     "metadata": {},
     "output_type": "execute_result"
    }
   ],
   "source": [
    "df_mun = pd.read_csv('input\\df_diccionario_mun.csv')\n",
    "clave = df_mun.loc[:, 'NOMGEO2'] == x\n",
    "clave = df_mun.loc[clave]['CVEGEO']\n",
    "clave"
   ]
  },
  {
   "cell_type": "code",
   "execution_count": 64,
   "metadata": {},
   "outputs": [
    {
     "data": {
      "text/html": [
       "<div>\n",
       "<style scoped>\n",
       "    .dataframe tbody tr th:only-of-type {\n",
       "        vertical-align: middle;\n",
       "    }\n",
       "\n",
       "    .dataframe tbody tr th {\n",
       "        vertical-align: top;\n",
       "    }\n",
       "\n",
       "    .dataframe thead th {\n",
       "        text-align: right;\n",
       "    }\n",
       "</style>\n",
       "<table border=\"1\" class=\"dataframe\">\n",
       "  <thead>\n",
       "    <tr style=\"text-align: right;\">\n",
       "      <th></th>\n",
       "      <th>CVEGEO</th>\n",
       "      <th>NOM_ENT</th>\n",
       "      <th>NOMGEO</th>\n",
       "      <th>NOMGEO2</th>\n",
       "      <th>NOM_ENT2</th>\n",
       "    </tr>\n",
       "  </thead>\n",
       "  <tbody>\n",
       "    <tr>\n",
       "      <th>446</th>\n",
       "      <td>3003</td>\n",
       "      <td>Baja California Sur</td>\n",
       "      <td>La Paz</td>\n",
       "      <td>la paz</td>\n",
       "      <td>baja california sur</td>\n",
       "    </tr>\n",
       "  </tbody>\n",
       "</table>\n",
       "</div>"
      ],
      "text/plain": [
       "     CVEGEO              NOM_ENT  NOMGEO NOMGEO2             NOM_ENT2\n",
       "446    3003  Baja California Sur  La Paz  la paz  baja california sur"
      ]
     },
     "execution_count": 64,
     "metadata": {},
     "output_type": "execute_result"
    }
   ],
   "source": [
    "df_mun = pd.read_csv('input\\df_diccionario_mun.csv')\n",
    "df_mun.query(\"NOM_ENT2 == '%s' and NOMGEO2 == '%s'\" % (y, x))"
   ]
  },
  {
   "cell_type": "code",
   "execution_count": 76,
   "metadata": {},
   "outputs": [
    {
     "data": {
      "text/plain": [
       "'18004'"
      ]
     },
     "execution_count": 76,
     "metadata": {},
     "output_type": "execute_result"
    }
   ],
   "source": [
    "#clave = df_mun.loc[(df_mun['NOM_ENT2'] == y) & (df_mun['NOMGEO2'] == x)]\n",
    "clave = df_mun.query(\"NOM_ENT2 == '%s' and NOMGEO2 == '%s'\" % (y, x))\n",
    "clave = str(int(clave['CVEGEO']))\n",
    "clave.zfill(5)"
   ]
  },
  {
   "cell_type": "code",
   "execution_count": 46,
   "metadata": {},
   "outputs": [
    {
     "name": "stdout",
     "output_type": "stream",
     "text": [
      "0    12003\n",
      "Name: CVEGEO, dtype: int64\n"
     ]
    }
   ],
   "source": [
    "print(clave['CVEGEO'])"
   ]
  },
  {
   "cell_type": "code",
   "execution_count": 47,
   "metadata": {},
   "outputs": [],
   "source": [
    "a = clave['CVEGEO'] + 5"
   ]
  },
  {
   "cell_type": "code",
   "execution_count": 48,
   "metadata": {},
   "outputs": [
    {
     "data": {
      "text/plain": [
       "0    12008\n",
       "Name: CVEGEO, dtype: int64"
      ]
     },
     "execution_count": 48,
     "metadata": {},
     "output_type": "execute_result"
    }
   ],
   "source": [
    "a"
   ]
  },
  {
   "cell_type": "code",
   "execution_count": 49,
   "metadata": {},
   "outputs": [
    {
     "data": {
      "text/plain": [
       "pandas.core.series.Series"
      ]
     },
     "execution_count": 49,
     "metadata": {},
     "output_type": "execute_result"
    }
   ],
   "source": [
    "type(a)"
   ]
  },
  {
   "cell_type": "code",
   "execution_count": 56,
   "metadata": {},
   "outputs": [
    {
     "data": {
      "text/plain": [
       "'baja california sur'"
      ]
     },
     "execution_count": 56,
     "metadata": {},
     "output_type": "execute_result"
    }
   ],
   "source": []
  },
  {
   "cell_type": "code",
   "execution_count": 58,
   "metadata": {},
   "outputs": [
    {
     "data": {
      "text/html": [
       "<div>\n",
       "<style scoped>\n",
       "    .dataframe tbody tr th:only-of-type {\n",
       "        vertical-align: middle;\n",
       "    }\n",
       "\n",
       "    .dataframe tbody tr th {\n",
       "        vertical-align: top;\n",
       "    }\n",
       "\n",
       "    .dataframe thead th {\n",
       "        text-align: right;\n",
       "    }\n",
       "</style>\n",
       "<table border=\"1\" class=\"dataframe\">\n",
       "  <thead>\n",
       "    <tr style=\"text-align: right;\">\n",
       "      <th></th>\n",
       "      <th>CVEGEO</th>\n",
       "      <th>NOM_ENT</th>\n",
       "      <th>NOMGEO</th>\n",
       "      <th>NOMGEO2</th>\n",
       "      <th>NOM_ENT2</th>\n",
       "    </tr>\n",
       "  </thead>\n",
       "  <tbody>\n",
       "    <tr>\n",
       "      <th>0</th>\n",
       "      <td>12003</td>\n",
       "      <td>Guerrero</td>\n",
       "      <td>Ajuchitlán del Progreso</td>\n",
       "      <td>ajuchitlan del progreso</td>\n",
       "      <td>guerrero</td>\n",
       "    </tr>\n",
       "    <tr>\n",
       "      <th>1</th>\n",
       "      <td>13041</td>\n",
       "      <td>Hidalgo</td>\n",
       "      <td>Mixquiahuala de Juárez</td>\n",
       "      <td>mixquiahuala de juarez</td>\n",
       "      <td>hidalgo</td>\n",
       "    </tr>\n",
       "    <tr>\n",
       "      <th>2</th>\n",
       "      <td>12067</td>\n",
       "      <td>Guerrero</td>\n",
       "      <td>Tlapehuala</td>\n",
       "      <td>tlapehuala</td>\n",
       "      <td>guerrero</td>\n",
       "    </tr>\n",
       "    <tr>\n",
       "      <th>3</th>\n",
       "      <td>13025</td>\n",
       "      <td>Hidalgo</td>\n",
       "      <td>Huautla</td>\n",
       "      <td>huautla</td>\n",
       "      <td>hidalgo</td>\n",
       "    </tr>\n",
       "    <tr>\n",
       "      <th>4</th>\n",
       "      <td>13027</td>\n",
       "      <td>Hidalgo</td>\n",
       "      <td>Huehuetla</td>\n",
       "      <td>huehuetla</td>\n",
       "      <td>hidalgo</td>\n",
       "    </tr>\n",
       "    <tr>\n",
       "      <th>5</th>\n",
       "      <td>11002</td>\n",
       "      <td>Guanajuato</td>\n",
       "      <td>Acámbaro</td>\n",
       "      <td>acambaro</td>\n",
       "      <td>guanajuato</td>\n",
       "    </tr>\n",
       "    <tr>\n",
       "      <th>6</th>\n",
       "      <td>12024</td>\n",
       "      <td>Guerrero</td>\n",
       "      <td>Cualác</td>\n",
       "      <td>cualac</td>\n",
       "      <td>guerrero</td>\n",
       "    </tr>\n",
       "    <tr>\n",
       "      <th>7</th>\n",
       "      <td>12043</td>\n",
       "      <td>Guerrero</td>\n",
       "      <td>Metlatónoc</td>\n",
       "      <td>metlatonoc</td>\n",
       "      <td>guerrero</td>\n",
       "    </tr>\n",
       "    <tr>\n",
       "      <th>8</th>\n",
       "      <td>13071</td>\n",
       "      <td>Hidalgo</td>\n",
       "      <td>Tlahuiltepa</td>\n",
       "      <td>tlahuiltepa</td>\n",
       "      <td>hidalgo</td>\n",
       "    </tr>\n",
       "    <tr>\n",
       "      <th>9</th>\n",
       "      <td>13030</td>\n",
       "      <td>Hidalgo</td>\n",
       "      <td>Ixmiquilpan</td>\n",
       "      <td>ixmiquilpan</td>\n",
       "      <td>hidalgo</td>\n",
       "    </tr>\n",
       "    <tr>\n",
       "      <th>10</th>\n",
       "      <td>13051</td>\n",
       "      <td>Hidalgo</td>\n",
       "      <td>Mineral de la Reforma</td>\n",
       "      <td>mineral de la reforma</td>\n",
       "      <td>hidalgo</td>\n",
       "    </tr>\n",
       "    <tr>\n",
       "      <th>11</th>\n",
       "      <td>12081</td>\n",
       "      <td>Guerrero</td>\n",
       "      <td>Iliatenco</td>\n",
       "      <td>iliatenco</td>\n",
       "      <td>guerrero</td>\n",
       "    </tr>\n",
       "    <tr>\n",
       "      <th>12</th>\n",
       "      <td>13065</td>\n",
       "      <td>Hidalgo</td>\n",
       "      <td>Tetepango</td>\n",
       "      <td>tetepango</td>\n",
       "      <td>hidalgo</td>\n",
       "    </tr>\n",
       "    <tr>\n",
       "      <th>13</th>\n",
       "      <td>11021</td>\n",
       "      <td>Guanajuato</td>\n",
       "      <td>Moroleón</td>\n",
       "      <td>moroleon</td>\n",
       "      <td>guanajuato</td>\n",
       "    </tr>\n",
       "    <tr>\n",
       "      <th>14</th>\n",
       "      <td>12078</td>\n",
       "      <td>Guerrero</td>\n",
       "      <td>Cochoapa el Grande</td>\n",
       "      <td>cochoapa el grande</td>\n",
       "      <td>guerrero</td>\n",
       "    </tr>\n",
       "    <tr>\n",
       "      <th>15</th>\n",
       "      <td>13079</td>\n",
       "      <td>Hidalgo</td>\n",
       "      <td>Xochicoatlán</td>\n",
       "      <td>xochicoatlan</td>\n",
       "      <td>hidalgo</td>\n",
       "    </tr>\n",
       "    <tr>\n",
       "      <th>16</th>\n",
       "      <td>13059</td>\n",
       "      <td>Hidalgo</td>\n",
       "      <td>Tecozautla</td>\n",
       "      <td>tecozautla</td>\n",
       "      <td>hidalgo</td>\n",
       "    </tr>\n",
       "    <tr>\n",
       "      <th>17</th>\n",
       "      <td>11001</td>\n",
       "      <td>Guanajuato</td>\n",
       "      <td>Abasolo</td>\n",
       "      <td>abasolo</td>\n",
       "      <td>guanajuato</td>\n",
       "    </tr>\n",
       "    <tr>\n",
       "      <th>18</th>\n",
       "      <td>11037</td>\n",
       "      <td>Guanajuato</td>\n",
       "      <td>Silao de la Victoria</td>\n",
       "      <td>silao de la victoria</td>\n",
       "      <td>guanajuato</td>\n",
       "    </tr>\n",
       "    <tr>\n",
       "      <th>19</th>\n",
       "      <td>13018</td>\n",
       "      <td>Hidalgo</td>\n",
       "      <td>Chapulhuacán</td>\n",
       "      <td>chapulhuacan</td>\n",
       "      <td>hidalgo</td>\n",
       "    </tr>\n",
       "    <tr>\n",
       "      <th>20</th>\n",
       "      <td>10039</td>\n",
       "      <td>Durango</td>\n",
       "      <td>Nuevo Ideal</td>\n",
       "      <td>nuevo ideal</td>\n",
       "      <td>durango</td>\n",
       "    </tr>\n",
       "    <tr>\n",
       "      <th>21</th>\n",
       "      <td>12031</td>\n",
       "      <td>Guerrero</td>\n",
       "      <td>General Canuto A. Neri</td>\n",
       "      <td>general canuto a. neri</td>\n",
       "      <td>guerrero</td>\n",
       "    </tr>\n",
       "    <tr>\n",
       "      <th>22</th>\n",
       "      <td>12037</td>\n",
       "      <td>Guerrero</td>\n",
       "      <td>Ixcateopan de Cuauhtémoc</td>\n",
       "      <td>ixcateopan de cuauhtemoc</td>\n",
       "      <td>guerrero</td>\n",
       "    </tr>\n",
       "    <tr>\n",
       "      <th>23</th>\n",
       "      <td>13031</td>\n",
       "      <td>Hidalgo</td>\n",
       "      <td>Jacala de Ledezma</td>\n",
       "      <td>jacala de ledezma</td>\n",
       "      <td>hidalgo</td>\n",
       "    </tr>\n",
       "    <tr>\n",
       "      <th>24</th>\n",
       "      <td>13033</td>\n",
       "      <td>Hidalgo</td>\n",
       "      <td>Juárez Hidalgo</td>\n",
       "      <td>juarez hidalgo</td>\n",
       "      <td>hidalgo</td>\n",
       "    </tr>\n",
       "    <tr>\n",
       "      <th>25</th>\n",
       "      <td>13076</td>\n",
       "      <td>Hidalgo</td>\n",
       "      <td>Tula de Allende</td>\n",
       "      <td>tula de allende</td>\n",
       "      <td>hidalgo</td>\n",
       "    </tr>\n",
       "    <tr>\n",
       "      <th>26</th>\n",
       "      <td>14076</td>\n",
       "      <td>Jalisco</td>\n",
       "      <td>San Martín de Bolaños</td>\n",
       "      <td>san martin de bolanos</td>\n",
       "      <td>jalisco</td>\n",
       "    </tr>\n",
       "    <tr>\n",
       "      <th>27</th>\n",
       "      <td>13007</td>\n",
       "      <td>Hidalgo</td>\n",
       "      <td>Almoloya</td>\n",
       "      <td>almoloya</td>\n",
       "      <td>hidalgo</td>\n",
       "    </tr>\n",
       "    <tr>\n",
       "      <th>28</th>\n",
       "      <td>13084</td>\n",
       "      <td>Hidalgo</td>\n",
       "      <td>Zimapán</td>\n",
       "      <td>zimapan</td>\n",
       "      <td>hidalgo</td>\n",
       "    </tr>\n",
       "    <tr>\n",
       "      <th>29</th>\n",
       "      <td>11029</td>\n",
       "      <td>Guanajuato</td>\n",
       "      <td>San Diego de la Unión</td>\n",
       "      <td>san diego de la union</td>\n",
       "      <td>guanajuato</td>\n",
       "    </tr>\n",
       "    <tr>\n",
       "      <th>30</th>\n",
       "      <td>12006</td>\n",
       "      <td>Guerrero</td>\n",
       "      <td>Apaxtla</td>\n",
       "      <td>apaxtla</td>\n",
       "      <td>guerrero</td>\n",
       "    </tr>\n",
       "    <tr>\n",
       "      <th>31</th>\n",
       "      <td>12022</td>\n",
       "      <td>Guerrero</td>\n",
       "      <td>Coyuca de Catalán</td>\n",
       "      <td>coyuca de catalan</td>\n",
       "      <td>guerrero</td>\n",
       "    </tr>\n",
       "    <tr>\n",
       "      <th>32</th>\n",
       "      <td>13006</td>\n",
       "      <td>Hidalgo</td>\n",
       "      <td>Alfajayucan</td>\n",
       "      <td>alfajayucan</td>\n",
       "      <td>hidalgo</td>\n",
       "    </tr>\n",
       "    <tr>\n",
       "      <th>33</th>\n",
       "      <td>13026</td>\n",
       "      <td>Hidalgo</td>\n",
       "      <td>Huazalingo</td>\n",
       "      <td>huazalingo</td>\n",
       "      <td>hidalgo</td>\n",
       "    </tr>\n",
       "    <tr>\n",
       "      <th>34</th>\n",
       "      <td>13028</td>\n",
       "      <td>Hidalgo</td>\n",
       "      <td>Huejutla de Reyes</td>\n",
       "      <td>huejutla de reyes</td>\n",
       "      <td>hidalgo</td>\n",
       "    </tr>\n",
       "    <tr>\n",
       "      <th>35</th>\n",
       "      <td>14020</td>\n",
       "      <td>Jalisco</td>\n",
       "      <td>Cabo Corrientes</td>\n",
       "      <td>cabo corrientes</td>\n",
       "      <td>jalisco</td>\n",
       "    </tr>\n",
       "    <tr>\n",
       "      <th>36</th>\n",
       "      <td>10038</td>\n",
       "      <td>Durango</td>\n",
       "      <td>Vicente Guerrero</td>\n",
       "      <td>vicente guerrero</td>\n",
       "      <td>durango</td>\n",
       "    </tr>\n",
       "    <tr>\n",
       "      <th>37</th>\n",
       "      <td>12052</td>\n",
       "      <td>Guerrero</td>\n",
       "      <td>San Luis Acatlán</td>\n",
       "      <td>san luis acatlan</td>\n",
       "      <td>guerrero</td>\n",
       "    </tr>\n",
       "    <tr>\n",
       "      <th>38</th>\n",
       "      <td>12025</td>\n",
       "      <td>Guerrero</td>\n",
       "      <td>Cuautepec</td>\n",
       "      <td>cuautepec</td>\n",
       "      <td>guerrero</td>\n",
       "    </tr>\n",
       "    <tr>\n",
       "      <th>39</th>\n",
       "      <td>13029</td>\n",
       "      <td>Hidalgo</td>\n",
       "      <td>Huichapan</td>\n",
       "      <td>huichapan</td>\n",
       "      <td>hidalgo</td>\n",
       "    </tr>\n",
       "  </tbody>\n",
       "</table>\n",
       "</div>"
      ],
      "text/plain": [
       "    CVEGEO     NOM_ENT                    NOMGEO                   NOMGEO2  \\\n",
       "0    12003    Guerrero   Ajuchitlán del Progreso   ajuchitlan del progreso   \n",
       "1    13041     Hidalgo    Mixquiahuala de Juárez    mixquiahuala de juarez   \n",
       "2    12067    Guerrero                Tlapehuala                tlapehuala   \n",
       "3    13025     Hidalgo                   Huautla                   huautla   \n",
       "4    13027     Hidalgo                 Huehuetla                 huehuetla   \n",
       "5    11002  Guanajuato                  Acámbaro                  acambaro   \n",
       "6    12024    Guerrero                    Cualác                    cualac   \n",
       "7    12043    Guerrero                Metlatónoc                metlatonoc   \n",
       "8    13071     Hidalgo               Tlahuiltepa               tlahuiltepa   \n",
       "9    13030     Hidalgo               Ixmiquilpan               ixmiquilpan   \n",
       "10   13051     Hidalgo     Mineral de la Reforma     mineral de la reforma   \n",
       "11   12081    Guerrero                 Iliatenco                 iliatenco   \n",
       "12   13065     Hidalgo                 Tetepango                 tetepango   \n",
       "13   11021  Guanajuato                  Moroleón                  moroleon   \n",
       "14   12078    Guerrero        Cochoapa el Grande        cochoapa el grande   \n",
       "15   13079     Hidalgo              Xochicoatlán              xochicoatlan   \n",
       "16   13059     Hidalgo                Tecozautla                tecozautla   \n",
       "17   11001  Guanajuato                   Abasolo                   abasolo   \n",
       "18   11037  Guanajuato      Silao de la Victoria      silao de la victoria   \n",
       "19   13018     Hidalgo              Chapulhuacán              chapulhuacan   \n",
       "20   10039     Durango               Nuevo Ideal               nuevo ideal   \n",
       "21   12031    Guerrero    General Canuto A. Neri    general canuto a. neri   \n",
       "22   12037    Guerrero  Ixcateopan de Cuauhtémoc  ixcateopan de cuauhtemoc   \n",
       "23   13031     Hidalgo         Jacala de Ledezma         jacala de ledezma   \n",
       "24   13033     Hidalgo            Juárez Hidalgo            juarez hidalgo   \n",
       "25   13076     Hidalgo           Tula de Allende           tula de allende   \n",
       "26   14076     Jalisco     San Martín de Bolaños     san martin de bolanos   \n",
       "27   13007     Hidalgo                  Almoloya                  almoloya   \n",
       "28   13084     Hidalgo                   Zimapán                   zimapan   \n",
       "29   11029  Guanajuato     San Diego de la Unión     san diego de la union   \n",
       "30   12006    Guerrero                   Apaxtla                   apaxtla   \n",
       "31   12022    Guerrero         Coyuca de Catalán         coyuca de catalan   \n",
       "32   13006     Hidalgo               Alfajayucan               alfajayucan   \n",
       "33   13026     Hidalgo                Huazalingo                huazalingo   \n",
       "34   13028     Hidalgo         Huejutla de Reyes         huejutla de reyes   \n",
       "35   14020     Jalisco           Cabo Corrientes           cabo corrientes   \n",
       "36   10038     Durango          Vicente Guerrero          vicente guerrero   \n",
       "37   12052    Guerrero          San Luis Acatlán          san luis acatlan   \n",
       "38   12025    Guerrero                 Cuautepec                 cuautepec   \n",
       "39   13029     Hidalgo                 Huichapan                 huichapan   \n",
       "\n",
       "      NOM_ENT2  \n",
       "0     guerrero  \n",
       "1      hidalgo  \n",
       "2     guerrero  \n",
       "3      hidalgo  \n",
       "4      hidalgo  \n",
       "5   guanajuato  \n",
       "6     guerrero  \n",
       "7     guerrero  \n",
       "8      hidalgo  \n",
       "9      hidalgo  \n",
       "10     hidalgo  \n",
       "11    guerrero  \n",
       "12     hidalgo  \n",
       "13  guanajuato  \n",
       "14    guerrero  \n",
       "15     hidalgo  \n",
       "16     hidalgo  \n",
       "17  guanajuato  \n",
       "18  guanajuato  \n",
       "19     hidalgo  \n",
       "20     durango  \n",
       "21    guerrero  \n",
       "22    guerrero  \n",
       "23     hidalgo  \n",
       "24     hidalgo  \n",
       "25     hidalgo  \n",
       "26     jalisco  \n",
       "27     hidalgo  \n",
       "28     hidalgo  \n",
       "29  guanajuato  \n",
       "30    guerrero  \n",
       "31    guerrero  \n",
       "32     hidalgo  \n",
       "33     hidalgo  \n",
       "34     hidalgo  \n",
       "35     jalisco  \n",
       "36     durango  \n",
       "37    guerrero  \n",
       "38    guerrero  \n",
       "39     hidalgo  "
      ]
     },
     "execution_count": 58,
     "metadata": {},
     "output_type": "execute_result"
    }
   ],
   "source": []
  },
  {
   "cell_type": "code",
   "execution_count": 78,
   "metadata": {},
   "outputs": [],
   "source": [
    "#Import libraries \n",
    "import findspark\n",
    "import unicodedata\n",
    "findspark.init()\n",
    "import shapely\n",
    "import pandas as pd\n",
    "import geopandas as gpd\n",
    "from pyspark.sql import SparkSession\n",
    "from pyspark import SparkContext\n",
    "from pyspark import SparkConf\n",
    "from sedona.register import SedonaRegistrator\n",
    "from sedona.utils import SedonaKryoRegistrator, KryoSerializer\n",
    "\n",
    "#Begin spark sesion\n",
    "def begin_spark():\n",
    "    spark = SparkSession. \\\n",
    "    builder. \\\n",
    "    appName('appName'). \\\n",
    "    config(\"spark.serializer\", KryoSerializer.getName). \\\n",
    "    config(\"spark.executor.memory\", \"5g\"). \\\n",
    "    config(\"spark.driver.memory\", \"10g\"). \\\n",
    "    config('spark.driver.maxResultSize', '5g'). \\\n",
    "    config(\"spark.kryo.registrator\", SedonaKryoRegistrator.getName). \\\n",
    "    config('spark.jars.packages',\n",
    "            'org.apache.sedona:sedona-python-adapter-3.0_2.12:1.2.0-incubating,org.datasyslab:geotools-wrapper:1.1.0-25.2'). \\\n",
    "    getOrCreate()\n",
    "    SedonaRegistrator.registerAll(spark)\n",
    "    return spark\n",
    "\n",
    "\n",
    "def connection_municipal(spark):\n",
    "    BD_MUNICIPAL = spark.read.parquet(\"input/SCINCE_Parquets_Municipal/*.parquet\")\n",
    "    BD_MUNICIPAL.cache()\n",
    "    BD_MUNICIPAL.createOrReplaceTempView(\"estados\")\n",
    "\n",
    "\n",
    "def clean_str(x, y):\n",
    "    x = x.replace(\"%20\", \" \" )\n",
    "    x = (unicodedata.normalize('NFKD', x).encode('ASCII', 'ignore').strip().lower().decode('UTF-8'))\n",
    "    y = y.replace(\"%20\", \" \" )\n",
    "    y = (unicodedata.normalize('NFKD', y).encode('ASCII', 'ignore').strip().lower().decode('UTF-8'))\n",
    "    return x, y\n",
    "\n",
    "\n",
    "def get_CVEGEO_mun(estado, municipio):\n",
    "    df_mun = pd.read_csv('input\\df_diccionario_mun.csv')\n",
    "    #clave = df_mun.loc['NOMGEO2' == municipio and 'NOM_ENT2' == estado ]\n",
    "    #clave = str(int(df_mun.loc[clave]['CVEGEO']))\n",
    "    clave = df_mun.query(\"NOM_ENT2 == '%s' and NOMGEO2 == '%s'\" % (estado, municipio))\n",
    "    clave = str(int(clave['CVEGEO']))\n",
    "    return clave\n",
    "\n",
    "\n",
    "\n",
    "\n",
    "spark = begin_spark()\n",
    "pob_m = pob_municipio('Oaxaca', 'Abejones', spark)\n",
    "#print('La población del municipio de ' + str(nom_m) + ', ' + str(nom_e) + ' es: '+str(pob_m))\n",
    "#print(pob_municipio('Monterrey', spark))"
   ]
  },
  {
   "cell_type": "code",
   "execution_count": 88,
   "metadata": {},
   "outputs": [
    {
     "data": {
      "text/plain": [
       "array([], shape=(0, 3), dtype=object)"
      ]
     },
     "execution_count": 88,
     "metadata": {},
     "output_type": "execute_result"
    }
   ],
   "source": [
    "pob_m"
   ]
  },
  {
   "cell_type": "code",
   "execution_count": 92,
   "metadata": {},
   "outputs": [
    {
     "name": "stdout",
     "output_type": "stream",
     "text": [
      "ciudad de mexico iztapalapa\n"
     ]
    }
   ],
   "source": [
    "estado = 'Ciudad de mexico'\n",
    "municipio = 'Iztapalapa'\n",
    "connection_municipal(spark)\n",
    "estado, municipio = clean_str(estado, municipio)\n",
    "print(estado, municipio)\n",
    "#nom_e = str(pob_m[0][2])\n",
    "#nom_m = str(pob_m[0][1])\n",
    "#pob_m = str(pob_m[0][0])"
   ]
  },
  {
   "cell_type": "code",
   "execution_count": 93,
   "metadata": {},
   "outputs": [
    {
     "data": {
      "text/plain": [
       "'09007'"
      ]
     },
     "execution_count": 93,
     "metadata": {},
     "output_type": "execute_result"
    }
   ],
   "source": [
    "clave = get_CVEGEO_mun(estado, municipio)\n",
    "clave = clave.zfill(5)\n",
    "clave"
   ]
  },
  {
   "cell_type": "code",
   "execution_count": 94,
   "metadata": {},
   "outputs": [
    {
     "name": "stdout",
     "output_type": "stream",
     "text": [
      "+---------+----------+----------------+\n",
      "|     POB1|    NOMGEO|         NOM_ENT|\n",
      "+---------+----------+----------------+\n",
      "|1835486.0|Iztapalapa|Ciudad de México|\n",
      "+---------+----------+----------------+\n",
      "\n"
     ]
    }
   ],
   "source": [
    "pob_m = spark.sql(\"\"\"\n",
    "SELECT POB1, NOMGEO, NOM_ENT\n",
    "FROM estados\n",
    "WHERE CVEGEO = '%s';\n",
    "\"\"\" % clave)\n",
    "pob_m.cache()\n",
    "pob_m.show()"
   ]
  },
  {
   "cell_type": "code",
   "execution_count": 95,
   "metadata": {},
   "outputs": [
    {
     "data": {
      "text/plain": [
       "array([[1835486.0, 'Iztapalapa', 'Ciudad de México']], dtype=object)"
      ]
     },
     "execution_count": 95,
     "metadata": {},
     "output_type": "execute_result"
    }
   ],
   "source": [
    "pob_m = pob_m.toPandas().to_numpy()\n",
    "pob_m"
   ]
  },
  {
   "cell_type": "code",
   "execution_count": 99,
   "metadata": {},
   "outputs": [],
   "source": [
    "nom_e = str(pob_m[0][2])\n",
    "nom_m = str(pob_m[0][1])\n",
    "pob_m = str(pob_m[0][0])"
   ]
  },
  {
   "cell_type": "code",
   "execution_count": 100,
   "metadata": {},
   "outputs": [
    {
     "name": "stdout",
     "output_type": "stream",
     "text": [
      "En 2020 la poblacion de Iztapalapa ,Ciudad de México era de 1835486.0 personas\n"
     ]
    }
   ],
   "source": [
    "print(\"En 2020 la poblacion de %s ,%s era de %s personas\" % (nom_m, nom_e, pob_m))"
   ]
  },
  {
   "cell_type": "code",
   "execution_count": 25,
   "metadata": {},
   "outputs": [],
   "source": [
    "json_flag = {'municipio': 'Monterrey',  #Diccionario de pruebas para ingresar parametros\n",
    "    'estado': 'Nuevo Leon',\n",
    "    'filtro': 'hombre',  # lista disponible(hombre, mujer, infantil, joven, adulto, mayor)\n",
    "    'desglose': 'edad'}  # lista diponible(edad, sexo)\n"
   ]
  },
  {
   "cell_type": "code",
   "execution_count": 9,
   "metadata": {},
   "outputs": [
    {
     "data": {
      "text/plain": [
       "True"
      ]
     },
     "execution_count": 9,
     "metadata": {},
     "output_type": "execute_result"
    }
   ],
   "source": [
    "filter_list = ['hombre', 'mujer', 'infantil', 'joven', 'adulto', 'mayor']\n",
    "json_flag['filtro'] in filter_list"
   ]
  },
  {
   "cell_type": "code",
   "execution_count": 30,
   "metadata": {},
   "outputs": [
    {
     "data": {
      "text/plain": [
       "True"
      ]
     },
     "execution_count": 30,
     "metadata": {},
     "output_type": "execute_result"
    }
   ],
   "source": [
    "json_flag = {'municipio': 'Monterrey',  #Diccionario de pruebas para ingresar parametros\n",
    "    'estado': 'Nuevo Leon',\n",
    "    'filtro': 'infantil',  # lista disponible(hombre, mujer, infantil, joven, adulto, mayor)\n",
    "    'desglose': 'sexo'}  # lista diponible(edad, sexo)\n",
    "\n",
    "def get_compatibles(filtro, desglose):\n",
    "    if (filtro == 'hombre' or filtro == 'mujer') and desglose == 'edad':\n",
    "        compatible = True\n",
    "    elif (filtro == 'infantil' or filtro == 'joven' or filtro == 'adulto' or filtro == 'mayor') and desglose == 'sexo':\n",
    "        compatible = True\n",
    "    else:\n",
    "        compatible = False\n",
    "    return compatible\n",
    "\n",
    "compatible = get_compatibles(json_flag['filtro'], json_flag['desglose'])\n",
    "compatible"
   ]
  },
  {
   "cell_type": "code",
   "execution_count": 24,
   "metadata": {},
   "outputs": [
    {
     "data": {
      "text/plain": [
       "231655.0"
      ]
     },
     "execution_count": 24,
     "metadata": {},
     "output_type": "execute_result"
    }
   ],
   "source": [
    "import numpy as np\n",
    "lista = np.array([[225102.0, 228140.0, 227316.0, 231655.0, 248293.0, 239870.0, 221419.0, 210620.0, 204546.0, 193524.0, 169947.0, 133074.0, 113541.0, 81642.0, 62182.0, 41804.0, 28281.0, 23453.0]])\n",
    "#lista = np.transpose(lista)\n",
    "lista = lista[0].tolist()\n",
    "lista[3]"
   ]
  },
  {
   "cell_type": "code",
   "execution_count": null,
   "metadata": {},
   "outputs": [],
   "source": []
  }
 ],
 "metadata": {
  "kernelspec": {
   "display_name": "Python 3.8.13 ('bigdata')",
   "language": "python",
   "name": "python3"
  },
  "language_info": {
   "codemirror_mode": {
    "name": "ipython",
    "version": 3
   },
   "file_extension": ".py",
   "mimetype": "text/x-python",
   "name": "python",
   "nbconvert_exporter": "python",
   "pygments_lexer": "ipython3",
   "version": "3.8.13"
  },
  "orig_nbformat": 4,
  "vscode": {
   "interpreter": {
    "hash": "8df4244381fa4f8bd97c0a2277f92129f2489949cf67a77a2c58bdf65431af85"
   }
  }
 },
 "nbformat": 4,
 "nbformat_minor": 2
}
